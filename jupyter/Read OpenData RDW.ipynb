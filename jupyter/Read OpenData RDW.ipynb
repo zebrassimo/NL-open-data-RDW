{
 "cells": [
  {
   "cell_type": "code",
   "execution_count": null,
   "id": "abaf0e6d-9ac0-4e41-b79e-3340d4555bde",
   "metadata": {
    "tags": []
   },
   "outputs": [
    {
     "name": "stdout",
     "output_type": "stream",
     "text": [
      "offset: 0\t, size: 50000\t, count:1\n",
      "offset: 50000\t, size: 50000\t, count:2\n"
     ]
    }
   ],
   "source": [
    "import requests\n",
    "import json\n",
    "import pandas as pd\n",
    "size= 50000#max 500\n",
    "cursor = 0\n",
    "df = pd.DataFrame()\n",
    "count =0\n",
    "#while count<2:\n",
    "while True:\n",
    "    count = count+1\n",
    "    url=f\"https://opendata.rdw.nl/resource/m9d7-ebf2.json?$limit={size}&$offset={cursor}\"\n",
    "    response = requests.get(url)\n",
    "    resp = response.json()\n",
    "    items = pd.DataFrame(resp)\n",
    "    df = df.append(items)\n",
    "    print(f\"offset: {cursor}\\t, size: {size}\\t, count:{count}\")\n",
    "    cursor += size\n",
    "    if len(resp)==0:\n",
    "        break\n",
    "\n",
    "df.head()"
   ]
  },
  {
   "cell_type": "code",
   "execution_count": null,
   "id": "4052120c-7fa1-41de-aacd-fb7af873651c",
   "metadata": {},
   "outputs": [],
   "source": [
    "df.rename(columns={'kenteken': 'plate'}, inplace=True)\n",
    "df.rename(columns={'merk': 'make'}, inplace=True)\n",
    "df.rename(columns={'handelsbenaming': 'model'}, inplace=True)\n",
    "\n",
    "df.rename(columns={'lengte': 'length'}, inplace=True)\n",
    "df.rename(columns={'breedte': 'width'}, inplace=True)\n",
    "df.rename(columns={'inrichting': 'type'}, inplace=True)\n",
    "df.rename(columns={'voertuigsoort': 'kind'}, inplace=True)\n",
    "\n",
    "df.drop(['datum_tenaamstelling','vervaldatum_apk','bruto_bpm','eerste_kleur','tweede_kleur',\n",
    "         'aantal_cilinders','massa_ledig_voertuig','toegestane_maximum_massa_voertuig',\n",
    "         'massa_rijklaar','datum_eerste_toelating','datum_eerste_afgifte_nederland','wacht_op_keuren',\n",
    "         'wam_verzekerd','laadvermogen','aantal_wielen','aantal_zitplaatsen','cilinderinhoud',\n",
    "         'zuinigheidslabel','catalogusprijs','aantal_deuren','afstand_hart_koppeling_tot_achterzijde_voertuig',\n",
    "         'afstand_voorzijde_voertuig_tot_hart_koppeling','maximum_massa_trekken_ongeremd',\n",
    "         'aanhangwagen_autonoom_geremd','aanhangwagen_middenas_geremd','europese_voertuigcategorie',\n",
    "         'technische_max_massa_voertuig','maximum_trekken_massa_geremd','plaats_chassisnummer','typegoedkeuringsnummer',\n",
    "         'variant','uitvoering','volgnummer_wijziging_eu_typegoedkeuring','vermogen_massarijklaar','wielbasis',\n",
    "         'export_indicator','openstaande_terugroepactie_indicator','taxi_indicator','maximum_massa_samenstelling',\n",
    "         'aantal_rolstoelplaatsen','jaar_laatste_registratie_tellerstand','tellerstandoordeel',\n",
    "         'code_toelichting_tellerstandoordeel','tenaamstellen_mogelijk','api_gekentekende_voertuigen_assen',\n",
    "         'api_gekentekende_voertuigen_brandstof','api_gekentekende_voertuigen_carrosserie',\n",
    "         'api_gekentekende_voertuigen_carrosserie_specifiek','api_gekentekende_voertuigen_voertuigklasse',\n",
    "         'maximale_constructiesnelheid_brom_snorfiets','vermogen_brom_snorfiets','europese_voertuigcategorie_toevoeging',\n",
    "         'europese_uitvoeringcategorie_toevoeging','type_gasinstallatie','oplegger_geremd','vervaldatum_tachograaf'\n",
    "         ,'aantal_staanplaatsen'\n",
    "         \n",
    "         ], axis=1, inplace=True)\n",
    "\n",
    "df.rename(columns={'maximum_ondersteunende_snelheid': 'beep'}, inplace=True)\n",
    "df.rename(columns={'afwijkende_maximum_snelheid': 'tuut'}, inplace=True)\n",
    "\n",
    "for col in df.columns:\n",
    "    print(col)\n",
    "df.head()"
   ]
  },
  {
   "cell_type": "code",
   "execution_count": null,
   "id": "899b15a7-fbbf-4806-8c5d-b4b5b6ccb77f",
   "metadata": {},
   "outputs": [],
   "source": [
    "df.to_csv(\"../data/rdw.zip\", \n",
    "           index=False, \n",
    "           compression=\"zip\")"
   ]
  },
  {
   "cell_type": "code",
   "execution_count": null,
   "id": "71194147-5173-4607-bb39-6717390bdd5c",
   "metadata": {},
   "outputs": [],
   "source": []
  }
 ],
 "metadata": {
  "kernelspec": {
   "display_name": "Python 3 (ipykernel)",
   "language": "python",
   "name": "python3"
  },
  "language_info": {
   "codemirror_mode": {
    "name": "ipython",
    "version": 3
   },
   "file_extension": ".py",
   "mimetype": "text/x-python",
   "name": "python",
   "nbconvert_exporter": "python",
   "pygments_lexer": "ipython3",
   "version": "3.10.0"
  }
 },
 "nbformat": 4,
 "nbformat_minor": 5
}
