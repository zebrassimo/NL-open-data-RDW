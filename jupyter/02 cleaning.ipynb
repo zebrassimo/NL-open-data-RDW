{
 "cells": [
  {
   "cell_type": "markdown",
   "id": "bf8ffdfb-b50f-42e1-a2e5-6993ed72efc6",
   "metadata": {},
   "source": [
    "# load the zip file\n",
    "- we load the zip file\n",
    "- then remove data we don't need\n",
    "- do some translation"
   ]
  },
  {
   "cell_type": "code",
   "execution_count": 1,
   "id": "13b5f144-9186-41c9-ac1b-3ea58f6ab2e8",
   "metadata": {},
   "outputs": [],
   "source": [
    "import pandas as pd\n",
    "df = pd.DataFrame()\n",
    "df = pd.read_csv(\"../data/rdw.zip\", \n",
    "           compression=\"zip\")"
   ]
  },
  {
   "cell_type": "code",
   "execution_count": 2,
   "id": "3c3532c7-f690-4824-b65b-a2ee3710ea6e",
   "metadata": {},
   "outputs": [
    {
     "data": {
      "text/html": [
       "<div>\n",
       "<style scoped>\n",
       "    .dataframe tbody tr th:only-of-type {\n",
       "        vertical-align: middle;\n",
       "    }\n",
       "\n",
       "    .dataframe tbody tr th {\n",
       "        vertical-align: top;\n",
       "    }\n",
       "\n",
       "    .dataframe thead th {\n",
       "        text-align: right;\n",
       "    }\n",
       "</style>\n",
       "<table border=\"1\" class=\"dataframe\">\n",
       "  <thead>\n",
       "    <tr style=\"text-align: right;\">\n",
       "      <th></th>\n",
       "      <th>Unnamed: 0</th>\n",
       "      <th>plate</th>\n",
       "      <th>kind</th>\n",
       "      <th>make</th>\n",
       "      <th>model</th>\n",
       "      <th>length</th>\n",
       "      <th>width</th>\n",
       "      <th>eu_class</th>\n",
       "    </tr>\n",
       "  </thead>\n",
       "  <tbody>\n",
       "    <tr>\n",
       "      <th>0</th>\n",
       "      <td>0</td>\n",
       "      <td>N856XD</td>\n",
       "      <td>Personenauto</td>\n",
       "      <td>FIAT</td>\n",
       "      <td>FIAT 500</td>\n",
       "      <td>357.0</td>\n",
       "      <td>163.0</td>\n",
       "      <td>M1</td>\n",
       "    </tr>\n",
       "    <tr>\n",
       "      <th>1</th>\n",
       "      <td>1</td>\n",
       "      <td>36DVLX</td>\n",
       "      <td>Personenauto</td>\n",
       "      <td>BMW</td>\n",
       "      <td>3ER REIHE</td>\n",
       "      <td>0.0</td>\n",
       "      <td>0.0</td>\n",
       "      <td>M1</td>\n",
       "    </tr>\n",
       "    <tr>\n",
       "      <th>2</th>\n",
       "      <td>2</td>\n",
       "      <td>34XSGJ</td>\n",
       "      <td>Personenauto</td>\n",
       "      <td>HONDA</td>\n",
       "      <td>CIVIC 5DR</td>\n",
       "      <td>425.0</td>\n",
       "      <td>0.0</td>\n",
       "      <td>M1</td>\n",
       "    </tr>\n",
       "    <tr>\n",
       "      <th>3</th>\n",
       "      <td>3</td>\n",
       "      <td>HXJV75</td>\n",
       "      <td>Personenauto</td>\n",
       "      <td>JAGUAR</td>\n",
       "      <td>SOVEREIGN 3.2 E2</td>\n",
       "      <td>0.0</td>\n",
       "      <td>0.0</td>\n",
       "      <td>M1</td>\n",
       "    </tr>\n",
       "    <tr>\n",
       "      <th>4</th>\n",
       "      <td>4</td>\n",
       "      <td>45TTJZ</td>\n",
       "      <td>Personenauto</td>\n",
       "      <td>CITROEN</td>\n",
       "      <td>CITROEN C1</td>\n",
       "      <td>344.0</td>\n",
       "      <td>0.0</td>\n",
       "      <td>M1</td>\n",
       "    </tr>\n",
       "    <tr>\n",
       "      <th>...</th>\n",
       "      <td>...</td>\n",
       "      <td>...</td>\n",
       "      <td>...</td>\n",
       "      <td>...</td>\n",
       "      <td>...</td>\n",
       "      <td>...</td>\n",
       "      <td>...</td>\n",
       "      <td>...</td>\n",
       "    </tr>\n",
       "    <tr>\n",
       "      <th>95</th>\n",
       "      <td>95</td>\n",
       "      <td>93JJLN</td>\n",
       "      <td>Personenauto</td>\n",
       "      <td>VOLKSWAGEN</td>\n",
       "      <td>PASSAT</td>\n",
       "      <td>0.0</td>\n",
       "      <td>0.0</td>\n",
       "      <td>M1</td>\n",
       "    </tr>\n",
       "    <tr>\n",
       "      <th>96</th>\n",
       "      <td>96</td>\n",
       "      <td>12YD61</td>\n",
       "      <td>Motorfiets</td>\n",
       "      <td>KREIDLER</td>\n",
       "      <td>K54/54</td>\n",
       "      <td>NaN</td>\n",
       "      <td>NaN</td>\n",
       "      <td>L3</td>\n",
       "    </tr>\n",
       "    <tr>\n",
       "      <th>97</th>\n",
       "      <td>97</td>\n",
       "      <td>HN344R</td>\n",
       "      <td>Personenauto</td>\n",
       "      <td>VOLKSWAGEN</td>\n",
       "      <td>POLO</td>\n",
       "      <td>NaN</td>\n",
       "      <td>NaN</td>\n",
       "      <td>M1</td>\n",
       "    </tr>\n",
       "    <tr>\n",
       "      <th>98</th>\n",
       "      <td>98</td>\n",
       "      <td>JJ012S</td>\n",
       "      <td>Personenauto</td>\n",
       "      <td>VOLKSWAGEN</td>\n",
       "      <td>GOLF</td>\n",
       "      <td>0.0</td>\n",
       "      <td>0.0</td>\n",
       "      <td>M1</td>\n",
       "    </tr>\n",
       "    <tr>\n",
       "      <th>99</th>\n",
       "      <td>99</td>\n",
       "      <td>91SGRD</td>\n",
       "      <td>Personenauto</td>\n",
       "      <td>PEUGEOT</td>\n",
       "      <td>407</td>\n",
       "      <td>468.0</td>\n",
       "      <td>0.0</td>\n",
       "      <td>M1</td>\n",
       "    </tr>\n",
       "  </tbody>\n",
       "</table>\n",
       "<p>100 rows × 8 columns</p>\n",
       "</div>"
      ],
      "text/plain": [
       "    Unnamed: 0   plate          kind        make             model  length  \\\n",
       "0            0  N856XD  Personenauto        FIAT          FIAT 500   357.0   \n",
       "1            1  36DVLX  Personenauto         BMW         3ER REIHE     0.0   \n",
       "2            2  34XSGJ  Personenauto       HONDA         CIVIC 5DR   425.0   \n",
       "3            3  HXJV75  Personenauto      JAGUAR  SOVEREIGN 3.2 E2     0.0   \n",
       "4            4  45TTJZ  Personenauto     CITROEN        CITROEN C1   344.0   \n",
       "..         ...     ...           ...         ...               ...     ...   \n",
       "95          95  93JJLN  Personenauto  VOLKSWAGEN            PASSAT     0.0   \n",
       "96          96  12YD61    Motorfiets    KREIDLER            K54/54     NaN   \n",
       "97          97  HN344R  Personenauto  VOLKSWAGEN              POLO     NaN   \n",
       "98          98  JJ012S  Personenauto  VOLKSWAGEN              GOLF     0.0   \n",
       "99          99  91SGRD  Personenauto     PEUGEOT               407   468.0   \n",
       "\n",
       "    width eu_class  \n",
       "0   163.0       M1  \n",
       "1     0.0       M1  \n",
       "2     0.0       M1  \n",
       "3     0.0       M1  \n",
       "4     0.0       M1  \n",
       "..    ...      ...  \n",
       "95    0.0       M1  \n",
       "96    NaN       L3  \n",
       "97    NaN       M1  \n",
       "98    0.0       M1  \n",
       "99    0.0       M1  \n",
       "\n",
       "[100 rows x 8 columns]"
      ]
     },
     "execution_count": 2,
     "metadata": {},
     "output_type": "execute_result"
    }
   ],
   "source": [
    "df.rename(columns={'kenteken': 'plate'}, inplace=True)\n",
    "df.rename(columns={'merk': 'make'}, inplace=True)\n",
    "df.rename(columns={'handelsbenaming': 'model'}, inplace=True)\n",
    "df.rename(columns={'lengte': 'length'}, inplace=True)\n",
    "df.rename(columns={'breedte': 'width'}, inplace=True)\n",
    "df.rename(columns={'inrichting': 'type'}, inplace=True)\n",
    "df.rename(columns={'voertuigsoort': 'kind'}, inplace=True)\n",
    "df.rename(columns={'bruto_bpm': 'max_load'}, inplace=True)\n",
    "df.rename(columns={'europese_voertuigcategorie': 'eu_class'}, inplace=True)\n",
    "\n",
    "omit = ['vervaldatum_apk','datum_tenaamstelling','aantal_zitplaatsen','max_load','eerste_kleu','tweede_kleur',\n",
    "        'aantal_cilinders','cilinderinhoud','aanhangwagen_autonoom_geremd','aanhangwagen_middenas_geremd','vervaldatum_tachograaf',\n",
    "        'vervaldatum_tachograaf_dt','type_gasinstallatie','oplegger_geremd','afwijkende_maximum_snelheid','verticale_belasting_koppelpunt_getrokken_voertuig',\n",
    "        'aantal_staanplaatsen','subcategorie_nederland','eerste_kleur','massa_ledig_voertuig','toegestane_maximum_massa_voertuig','massa_rijklaar',\n",
    "        'maximum_massa_trekken_ongeremd','api_gekentekende_voertuigen_carrosserie_specifiek','api_gekentekende_voertuigen_voertuigklasse',\n",
    "        'europese_voertuigcategorie_toevoeging','europese_uitvoeringcategorie_toevoeging','registratie_datum_goedkeuring_afschrijvingsmoment_bpm',\n",
    "        'registratie_datum_goedkeuring_afschrijvingsmoment_bpm_dt','laadvermogen','maximum_last_onder_de_vooras_sen_tezamen_koppeling','maximale_constructiesnelheid',\n",
    "        'hoogte_voertuig','maximum_trekken_massa_geremd','datum_eerste_toelating','datum_eerste_tenaamstelling_in_nederland','wacht_op_keuren',\n",
    "        'catalogusprijs','code_toelichting_tellerstandoordeel','tenaamstellen_mogelijk','vervaldatum_apk_dt','datum_tenaamstelling_dt',\n",
    "        'datum_eerste_toelating_dt','datum_eerste_tenaamstelling_in_nederland_dt','zuinigheidsclassificatie','api_gekentekende_voertuigen_assen',\n",
    "        'api_gekentekende_voertuigen_brandstof','api_gekentekende_voertuigen_carrosserie','wam_verzekerd','aantal_deuren','aantal_wielen',\n",
    "        'afstand_hart_koppeling_tot_achterzijde_voertuig','afstand_voorzijde_voertuig_tot_hart_koppeling','vermogen_massarijklaar','wielbasis',\n",
    "        'export_indicator','openstaande_terugroepactie_indicator','taxi_indicator','maximum_massa_samenstelling','aantal_rolstoelplaatsen',\n",
    "        'maximum_ondersteunende_snelheid','jaar_laatste_registratie_tellerstand','tellerstandoordeel','plaats_chassisnummer','technische_max_massa_voertuig','type',\n",
    "        'typegoedkeuringsnummer','variant','uitvoering','volgnummer_wijziging_eu_typegoedkeuring','hoogte_voertuig_minimum','hoogte_voertuig_maximum',\n",
    "        'wielbasis_voertuig_minimum','wielbasis_voertuig_maximum','lengte_voertuig_minimum','lengte_voertuig_maximum','breedte_voertuig_minimum','breedte_voertuig_maximum',\n",
    "       'breedte_voertuig_maximum','massa_bedrijfsklaar_minimaal','massa_bedrijfsklaar_maximaal']\n",
    "\n",
    "for item in omit:\n",
    "    try:\n",
    "        df.drop(item, axis=1, inplace=True)\n",
    "    except:\n",
    "        pass\n",
    "df.head(100)"
   ]
  },
  {
   "cell_type": "markdown",
   "id": "25fe7b1f-90ad-4c48-9538-317c7c6d89eb",
   "metadata": {},
   "source": [
    "Now let's investigate the dataset a little ..."
   ]
  },
  {
   "cell_type": "code",
   "execution_count": 3,
   "id": "e8a80b95-889b-40ab-936c-6581364bff4c",
   "metadata": {},
   "outputs": [
    {
     "data": {
      "text/html": [
       "<div>\n",
       "<style scoped>\n",
       "    .dataframe tbody tr th:only-of-type {\n",
       "        vertical-align: middle;\n",
       "    }\n",
       "\n",
       "    .dataframe tbody tr th {\n",
       "        vertical-align: top;\n",
       "    }\n",
       "\n",
       "    .dataframe thead th {\n",
       "        text-align: right;\n",
       "    }\n",
       "</style>\n",
       "<table border=\"1\" class=\"dataframe\">\n",
       "  <thead>\n",
       "    <tr style=\"text-align: right;\">\n",
       "      <th></th>\n",
       "      <th>Unnamed: 0</th>\n",
       "      <th>length</th>\n",
       "      <th>width</th>\n",
       "    </tr>\n",
       "  </thead>\n",
       "  <tbody>\n",
       "    <tr>\n",
       "      <th>count</th>\n",
       "      <td>5000.000000</td>\n",
       "      <td>4487.000000</td>\n",
       "      <td>4588.000000</td>\n",
       "    </tr>\n",
       "    <tr>\n",
       "      <th>mean</th>\n",
       "      <td>2499.500000</td>\n",
       "      <td>231.101181</td>\n",
       "      <td>33.212947</td>\n",
       "    </tr>\n",
       "    <tr>\n",
       "      <th>std</th>\n",
       "      <td>1443.520003</td>\n",
       "      <td>235.665712</td>\n",
       "      <td>72.984099</td>\n",
       "    </tr>\n",
       "    <tr>\n",
       "      <th>min</th>\n",
       "      <td>0.000000</td>\n",
       "      <td>0.000000</td>\n",
       "      <td>0.000000</td>\n",
       "    </tr>\n",
       "    <tr>\n",
       "      <th>25%</th>\n",
       "      <td>1249.750000</td>\n",
       "      <td>0.000000</td>\n",
       "      <td>0.000000</td>\n",
       "    </tr>\n",
       "    <tr>\n",
       "      <th>50%</th>\n",
       "      <td>2499.500000</td>\n",
       "      <td>342.000000</td>\n",
       "      <td>0.000000</td>\n",
       "    </tr>\n",
       "    <tr>\n",
       "      <th>75%</th>\n",
       "      <td>3749.250000</td>\n",
       "      <td>425.000000</td>\n",
       "      <td>0.000000</td>\n",
       "    </tr>\n",
       "    <tr>\n",
       "      <th>max</th>\n",
       "      <td>4999.000000</td>\n",
       "      <td>1417.000000</td>\n",
       "      <td>275.000000</td>\n",
       "    </tr>\n",
       "  </tbody>\n",
       "</table>\n",
       "</div>"
      ],
      "text/plain": [
       "        Unnamed: 0       length        width\n",
       "count  5000.000000  4487.000000  4588.000000\n",
       "mean   2499.500000   231.101181    33.212947\n",
       "std    1443.520003   235.665712    72.984099\n",
       "min       0.000000     0.000000     0.000000\n",
       "25%    1249.750000     0.000000     0.000000\n",
       "50%    2499.500000   342.000000     0.000000\n",
       "75%    3749.250000   425.000000     0.000000\n",
       "max    4999.000000  1417.000000   275.000000"
      ]
     },
     "execution_count": 3,
     "metadata": {},
     "output_type": "execute_result"
    }
   ],
   "source": [
    "df.describe()"
   ]
  },
  {
   "cell_type": "markdown",
   "id": "935bb5e5-8ccd-47d2-bd14-206bf0ca38d7",
   "metadata": {},
   "source": [
    "# class and kind matching\n",
    "Now we want to see if the eu_class and the vehicle kind match. To do that, we drop the rows where columns and classes are null and hash the strings of kind and class."
   ]
  },
  {
   "cell_type": "code",
   "execution_count": 4,
   "id": "6e4d9120-9c50-46e2-8f89-feff13f82247",
   "metadata": {},
   "outputs": [
    {
     "name": "stdout",
     "output_type": "stream",
     "text": [
      "0.5540896909663889\n"
     ]
    }
   ],
   "source": [
    "x2= df['kind'].apply(lambda x: hash(x))\n",
    "y2= df['eu_class'].apply(lambda x: hash(x))\n",
    "correlation = x2.corr(y2)\n",
    "print(correlation)"
   ]
  },
  {
   "cell_type": "markdown",
   "id": "d282c10b-1995-43d1-92f5-6f7957ecd269",
   "metadata": {},
   "source": [
    "Hmm.. still not good"
   ]
  },
  {
   "cell_type": "code",
   "execution_count": 5,
   "id": "37202794-1f20-419f-a6b2-a56f895b4317",
   "metadata": {},
   "outputs": [
    {
     "name": "stdout",
     "output_type": "stream",
     "text": [
      "0.3253520978272152\n",
      "            Unnamed: 0    length     width\n",
      "Unnamed: 0    1.000000  0.008331  0.013174\n",
      "length        0.008331  1.000000  0.325352\n",
      "width         0.013174  0.325352  1.000000\n"
     ]
    }
   ],
   "source": [
    "df[[\"length\", \"width\"]] = df[[\"length\", \"width\"]].apply(pd.to_numeric)\n",
    "print(df['length'].corr(df['width']))\n",
    "correlation_df = df.corr() #calculate all correlations in df\n",
    "\n",
    "print(correlation_df)"
   ]
  },
  {
   "cell_type": "code",
   "execution_count": 6,
   "id": "e3b7988f-87a8-4174-b43b-1a2c98c14bc0",
   "metadata": {},
   "outputs": [
    {
     "data": {
      "text/plain": [
       "array(['Personenauto', 'Motorfiets', 'Bromfiets', 'Bedrijfsauto',\n",
       "       'Land- of bosbouwtrekker', 'Driewielig motorrijtuig',\n",
       "       'Aanhangwagen', 'Middenasaanhangwagen',\n",
       "       'Motorrijtuig met beperkte snelheid',\n",
       "       'Land- of bosb aanhw of getr uitr stuk', 'Bus', 'Oplegger',\n",
       "       'Motorfiets met zijspan', 'Autonome aanhangwagen',\n",
       "       'Mobiele machine'], dtype=object)"
      ]
     },
     "execution_count": 6,
     "metadata": {},
     "output_type": "execute_result"
    }
   ],
   "source": [
    "df['kind'].unique()"
   ]
  },
  {
   "cell_type": "code",
   "execution_count": 7,
   "id": "a1d7d5e3-f82d-4e06-94f6-7f7c938c894f",
   "metadata": {},
   "outputs": [
    {
     "data": {
      "text/plain": [
       "25"
      ]
     },
     "execution_count": 7,
     "metadata": {},
     "output_type": "execute_result"
    }
   ],
   "source": [
    "len(df['eu_class'].unique())"
   ]
  },
  {
   "cell_type": "code",
   "execution_count": 8,
   "id": "bd0fece7-fb8c-47bd-be65-468d88a9de48",
   "metadata": {},
   "outputs": [
    {
     "name": "stdout",
     "output_type": "stream",
     "text": [
      "<class 'pandas.core.frame.DataFrame'>\n",
      "RangeIndex: 5000 entries, 0 to 4999\n",
      "Data columns (total 8 columns):\n",
      " #   Column      Non-Null Count  Dtype  \n",
      "---  ------      --------------  -----  \n",
      " 0   Unnamed: 0  5000 non-null   int64  \n",
      " 1   plate       5000 non-null   object \n",
      " 2   kind        5000 non-null   object \n",
      " 3   make        5000 non-null   object \n",
      " 4   model       4937 non-null   object \n",
      " 5   length      4487 non-null   float64\n",
      " 6   width       4588 non-null   float64\n",
      " 7   eu_class    4998 non-null   object \n",
      "dtypes: float64(2), int64(1), object(5)\n",
      "memory usage: 312.6+ KB\n",
      "None\n"
     ]
    }
   ],
   "source": [
    "print(df.info())"
   ]
  },
  {
   "cell_type": "code",
   "execution_count": null,
   "id": "8c3765a8-0587-4692-b969-2f13ef82fafc",
   "metadata": {},
   "outputs": [],
   "source": []
  }
 ],
 "metadata": {
  "kernelspec": {
   "display_name": "Python 3 (ipykernel)",
   "language": "python",
   "name": "python3"
  },
  "language_info": {
   "codemirror_mode": {
    "name": "ipython",
    "version": 3
   },
   "file_extension": ".py",
   "mimetype": "text/x-python",
   "name": "python",
   "nbconvert_exporter": "python",
   "pygments_lexer": "ipython3",
   "version": "3.10.6"
  }
 },
 "nbformat": 4,
 "nbformat_minor": 5
}
