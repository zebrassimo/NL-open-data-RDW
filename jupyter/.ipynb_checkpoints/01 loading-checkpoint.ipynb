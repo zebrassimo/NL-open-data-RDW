{
 "cells": [
  {
   "cell_type": "markdown",
   "id": "c318267d-6e3c-4897-8acd-ab3adc1ca535",
   "metadata": {},
   "source": [
    "# This reads Netherlands vehicle owner data base analysis only\n",
    "[opendata.rdw.nl](https://opendata.rdw.nl/Voertuigen/Open-Data-RDW-Gekentekende_voertuigen/m9d7-ebf2)"
   ]
  },
  {
   "cell_type": "code",
   "execution_count": null,
   "id": "abaf0e6d-9ac0-4e41-b79e-3340d4555bde",
   "metadata": {
    "tags": []
   },
   "outputs": [],
   "source": [
    "import requests\n",
    "import json\n",
    "import pandas as pd\n",
    "size= 5000 #5000 is the limit\n",
    "cursor = 0\n",
    "df = pd.DataFrame()\n",
    "count =0\n",
    "while count<10: #this reads just size*5 times \n",
    "#while True: #this loads all of the data\n",
    "    count = count+1\n",
    "    url=f\"https://opendata.rdw.nl/resource/m9d7-ebf2.json?$limit={size}&$offset={cursor}\"\n",
    "    response = requests.get(url)\n",
    "    resp = response.json()\n",
    "    items = pd.DataFrame(resp)\n",
    "    df = pd.concat([df,items])\n",
    "    print(f\"offset: {cursor}\\t, size: {size}\\t, count:{count}\")\n",
    "    cursor += size\n",
    "    if len(resp)==0:\n",
    "        break\n",
    "    df.to_csv(f\"../data/rdw_.zip\", \n",
    "           index=True, \n",
    "           compression=\"zip\")\n",
    "df.head()"
   ]
  },
  {
   "cell_type": "code",
   "execution_count": null,
   "id": "c29e78b3-70b4-4871-81a0-f0eed9d622b1",
   "metadata": {},
   "outputs": [],
   "source": []
  }
 ],
 "metadata": {
  "kernelspec": {
   "display_name": "Python 3 (ipykernel)",
   "language": "python",
   "name": "python3"
  },
  "language_info": {
   "codemirror_mode": {
    "name": "ipython",
    "version": 3
   },
   "file_extension": ".py",
   "mimetype": "text/x-python",
   "name": "python",
   "nbconvert_exporter": "python",
   "pygments_lexer": "ipython3",
   "version": "3.10.6"
  }
 },
 "nbformat": 4,
 "nbformat_minor": 5
}
